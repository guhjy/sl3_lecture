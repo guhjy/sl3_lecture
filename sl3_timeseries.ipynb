{
 "cells": [
  {
   "cell_type": "markdown",
   "metadata": {},
   "source": [
    "# Time Series Analysis with the [`sl3`](https://sl3.tlverse.org/) R package\n",
    "\n",
    "## Authors: Ivana Malenica and [Nima Hejazi](https://nimahejazi.org)\n",
    "\n",
    "## Date: 08 May 2018\n",
    "\n",
    "### _Attribution:_ based on materials originally produced by Jeremy Coyle, Nima Hejazi, Ivana Malenica, and Oleg Sofrygin"
   ]
  },
  {
   "cell_type": "markdown",
   "metadata": {},
   "source": [
    "## Introduction\n",
    "\n",
    "In this demonstration, we will illustrate how to use the `sl3` R package for the statistical analysis of time series data. We will build on the concepts of machine learning pipelines and ensemble models (introduced in other `sl3` demos), paying careful attention to how the `sl3` infrastructure can be leveraged to generate optimal predictions for dependent data structures where many observations are collected on each observational unit."
   ]
  },
  {
   "cell_type": "markdown",
   "metadata": {},
   "source": [
    "## Resources\n",
    "\n",
    "* The `sl3` R package homepage: https://sl3.tlverse.org/\n",
    "* The `sl3` R package repository: https://github.com/tlverse/sl3"
   ]
  },
  {
   "cell_type": "markdown",
   "metadata": {},
   "source": [
    "## Setup\n",
    "\n",
    "First, we'll load the packages required for this exercise and load a simple data set (`cpp_imputed` below) that we'll use for demonstration purposes:"
   ]
  },
  {
   "cell_type": "code",
   "execution_count": null,
   "metadata": {},
   "outputs": [],
   "source": [
    "set.seed(49753)\n",
    "\n",
    "# packages we'll be using\n",
    "library(data.table)\n",
    "library(origami)\n",
    "library(sl3)\n",
    "\n",
    "# load data\n",
    "data(bsds)\n",
    "head(bsds)"
   ]
  },
  {
   "cell_type": "markdown",
   "metadata": {},
   "source": [
    "To use this data set with `sl3`, the object must be wrapped in a customized `sl3` container, an __`sl3` \"Task\"__ object. A _task_ is an idiom for all of the elements of a prediction problem other than the learning algorithms and prediction approach itself -- that is, a task delineates the structure of the data set of interest and any potential metadata (e.g., observation-level weights)."
   ]
  },
  {
   "cell_type": "code",
   "execution_count": null,
   "metadata": {},
   "outputs": [],
   "source": [
    "# here are the covariates we are interested in and, of course, the outcome\n",
    "# specify covariates for sl3 task\n",
    "covars <- c(\"cnt\")\n",
    "outcome <- \"cnt\"\n",
    "\n",
    "# create the sl3 task and take a look at it\n",
    "ts_task <- make_sl3_Task(data = bsds, covariates = covars,\n",
    "                         outcome = outcome, outcome_type = \"continuous\")\n",
    "\n",
    "# let's take a look at the sl3 task\n",
    "ts_task"
   ]
  },
  {
   "cell_type": "markdown",
   "metadata": {},
   "source": [
    "## `sl3` Learners\n",
    "\n",
    "`Lrnr_base` is the base class for defining machine learning algorithms, as well as fits for those algorithms to particular `sl3_Tasks`. Different machine learning algorithms are defined in classes that inherit from `Lrnr_base`. All learners (e.g., `Lrnr_arima`) inherit from this R6 class. We will use the term \"learners\" to refer to the family of classes that inherit from `Lrnr_base`. Learner objects can be constructed from their class definitions using the `make_learner` function (or more directly through invoking the `$new()` method). Let's now look at a simple time series learner, `Lrnr_arima`, which defines autoregressive integrated moving average model for univariate time-series."
   ]
  },
  {
   "cell_type": "code",
   "execution_count": null,
   "metadata": {},
   "outputs": [],
   "source": [
    "# make learner object\n",
    "lrnr_arima <- Lrnr_arima$new(n.ahead = 1)\n",
    "#lrnr_arima <- make_learner(Lrnr_arima)"
   ]
  },
  {
   "cell_type": "markdown",
   "metadata": {},
   "source": [
    "Because all learners inherit from `Lrnr_base`, they have many features in common, and can be used interchangeably. All learners define three main methods: `train`, `predict`, and `chain`. The first, `train`, takes an `sl3_task` object, and returns a `learner_fit`, which has the same class as the learner that was trained:"
   ]
  },
  {
   "cell_type": "code",
   "execution_count": null,
   "metadata": {},
   "outputs": [],
   "source": [
    "# fit learner to task data\n",
    "fit_arima <- lrnr_arima$train(ts_task)\n",
    "\n",
    "# verify that the learner is fit\n",
    "fit_arima$is_trained"
   ]
  },
  {
   "cell_type": "markdown",
   "metadata": {},
   "source": [
    "Here, we fit the learner to the time series task we defined above. Both `lrnr_arima` and `fit_arima` are objects of class `Lrnr_arima`, although the former defines a learner and the latter defines a fit of that learner. We can distiguish between the learners and learner fits using the `is_trained` field, which is true for fits but not for learners.\n",
    "\n",
    "Now that we’ve fit a learner, we can generate predictions using the predict method:"
   ]
  },
  {
   "cell_type": "code",
   "execution_count": null,
   "metadata": {},
   "outputs": [],
   "source": [
    "# get learner predictions\n",
    "pred_arima <- fit_arima$predict()\n",
    "head(pred_arima)"
   ]
  },
  {
   "cell_type": "markdown",
   "metadata": {},
   "source": [
    "Here, we specified task as the task for which we wanted to generate predictions. If we had omitted this, we would have gotten the same predictions because predict defaults to using the task provided to train (called the training task). Alternatively, we could have provided a different task for which we want to generate predictions.\n",
    "\n",
    "The final important learner method, chain, will be discussed below, in the section on learner composition. As with `sl3_Task`, learners have a variety of fields and methods we haven’t discussed here. More information on these is available in the help for `Lrnr_base`."
   ]
  },
  {
   "cell_type": "markdown",
   "metadata": {},
   "source": [
    "## Pipelines\n",
    "\n",
    "Based on the concept popularized by\n",
    "[`scikit-learn`](http://scikit-learn.org/stable/index.html) `sl3` implements the\n",
    "notion of [machine learning pipelines](http://scikit-learn.org/stable/modules/generated/sklearn.pipeline.Pipeline.html),\n",
    "which prove to be useful in a wide variety of data analytic settings.\n",
    "\n",
    "A pipeline is a set of learners to be fit sequentially, where the fit from one learner is used to define the task for the next learner. There are many ways in which a learner can define the task for the downstream learner. The chain method defined by learners defines how this will work."
   ]
  },
  {
   "cell_type": "code",
   "execution_count": null,
   "metadata": {},
   "outputs": [],
   "source": [
    "screen_cor <- Lrnr_pkg_SuperLearner_screener$new(\"screen.corP\")\n",
    "screen_fit <- screen_cor$train(task)\n",
    "print(screen_fit)"
   ]
  },
  {
   "cell_type": "markdown",
   "metadata": {},
   "source": [
    "The `Pipeline` class automates this process. It takes an arbitrary number of learners and fits them sequentially, training and chaining each one in turn. Since `Pipeline` is a learner like any other, it shares the same interface. We can define a pipeline using `make_learner`, and use `train` and `predict` just as we did before:"
   ]
  },
  {
   "cell_type": "code",
   "execution_count": null,
   "metadata": {},
   "outputs": [],
   "source": [
    "sg_pipeline <- make_learner(Pipeline, screen_cor, lrnr_glm)\n",
    "sg_pipeline_fit <- sg_pipeline$train(task)\n",
    "sg_pipeline_preds <- sg_pipeline_fit$predict()\n",
    "head(sg_pipeline_preds)"
   ]
  },
  {
   "cell_type": "markdown",
   "metadata": {},
   "source": [
    "## Stacks\n",
    "\n",
    "Like `Pipelines`, `Stacks` combine multiple learners. Stacks train learners simultaneously, so that their predictions can be either combined or compared. Again, `Stack` is just a special learner and so has the same interface as all other learners:"
   ]
  },
  {
   "cell_type": "code",
   "execution_count": null,
   "metadata": {},
   "outputs": [],
   "source": [
    "stack <- make_learner(Stack, lrnr_glm, sg_pipeline)\n",
    "stack_fit <- stack$train(task)\n",
    "stack_preds <- stack_fit$predict()\n",
    "head(stack_preds)"
   ]
  },
  {
   "cell_type": "markdown",
   "metadata": {},
   "source": [
    "Above, we’ve defined and fit a stack comprised of a simple `glm` learner as well as a pipeline that combines a screening algorithm with that same learner. We could have included any abitrary set of learners and pipelines, the latter of which are themselves just learners. We can see that the predict method now returns a matrix, with a column for each learner included in the stack."
   ]
  },
  {
   "cell_type": "markdown",
   "metadata": {},
   "source": [
    "## The Super Learner Algorithm"
   ]
  },
  {
   "cell_type": "markdown",
   "metadata": {},
   "source": [
    "Having defined a stack, we might want to compare the performance of learners in the stack, which we may do using cross-validation. The `Lrnr_cv` learner wraps another learner and performs training and prediction in a cross-validated fashion, using separate training and validation splits as defined by `task$folds`.\n",
    "\n",
    "Below, we define a new `Lrnr_cv` object based on the previously defined stack and train it and generate predictions on the validation set:"
   ]
  },
  {
   "cell_type": "code",
   "execution_count": null,
   "metadata": {},
   "outputs": [],
   "source": [
    "cv_stack <- Lrnr_cv$new(stack)\n",
    "cv_fit <- cv_stack$train(task)\n",
    "cv_preds <- cv_fit$predict()"
   ]
  },
  {
   "cell_type": "code",
   "execution_count": null,
   "metadata": {},
   "outputs": [],
   "source": [
    "risks <- cv_fit$cv_risk(loss_squared_error)\n",
    "print(risks)"
   ]
  },
  {
   "cell_type": "markdown",
   "metadata": {},
   "source": [
    "We can combine all of the above elements, `Pipelines`, `Stacks`, and cross-validation using `Lrnr_cv`, to easily define a Super Learner. The Super Learner algorithm works by fitting a “meta-learner”, which combines predictions from multiple stacked learners. It does this while avoiding overfitting by training the meta-learner on validation-set predictions in a manner that is cross-validated. Using some of the objects we defined in the above examples, this becomes a very simple operation:"
   ]
  },
  {
   "cell_type": "code",
   "execution_count": null,
   "metadata": {},
   "outputs": [],
   "source": [
    "metalearner <- make_learner(Lrnr_nnls)\n",
    "cv_task <- cv_fit$chain()\n",
    "ml_fit <- metalearner$train(cv_task)"
   ]
  },
  {
   "cell_type": "markdown",
   "metadata": {},
   "source": [
    "Here, we used a special learner, Lrnr_nnls, for the meta-learning step. This fits a non-negative least squares meta-learner. It is important to note that any learner can be used as a meta-learner.\n",
    "\n",
    "The Super Learner finally produced is defined as a pipeline with the learner stack trained on the full data and the meta-learner trained on the validation-set predictions. Below, we use a special behavior of pipelines: if all objects passed to a pipeline are learner fits (i.e., `learner$is_trained` is `TRUE`), the result will also be a fit:"
   ]
  },
  {
   "cell_type": "code",
   "execution_count": null,
   "metadata": {},
   "outputs": [],
   "source": [
    "sl_pipeline <- make_learner(Pipeline, stack_fit, ml_fit)\n",
    "sl_preds <- sl_pipeline$predict()\n",
    "head(sl_preds)"
   ]
  },
  {
   "cell_type": "markdown",
   "metadata": {},
   "source": [
    "An optimal stacked regression model (or Super Learner) may be fit in a more streamlined manner using the `Lrnr_sl` learner. For simplicity, we will use the same set of learners and meta-learning algorithm as we did before:"
   ]
  },
  {
   "cell_type": "code",
   "execution_count": null,
   "metadata": {},
   "outputs": [],
   "source": [
    "sl <- Lrnr_sl$new(learners = stack,\n",
    "                  metalearner = metalearner)\n",
    "sl_fit <- sl$train(task)\n",
    "lrnr_sl_preds <- sl_fit$predict()\n",
    "head(lrnr_sl_preds)"
   ]
  },
  {
   "cell_type": "markdown",
   "metadata": {},
   "source": [
    "We can see that this generates the same predictions as the more hands-on definition above."
   ]
  }
 ],
 "metadata": {
  "kernelspec": {
   "display_name": "R",
   "language": "R",
   "name": "ir"
  },
  "language_info": {
   "codemirror_mode": "r",
   "file_extension": ".r",
   "mimetype": "text/x-r-source",
   "name": "R",
   "pygments_lexer": "r",
   "version": "3.5.0"
  }
 },
 "nbformat": 4,
 "nbformat_minor": 2
}
